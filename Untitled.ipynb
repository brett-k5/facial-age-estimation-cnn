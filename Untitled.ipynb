{
 "cells": [
  {
   "cell_type": "code",
   "execution_count": 2,
   "id": "135cdd3c-256f-4810-95e8-0de141372377",
   "metadata": {},
   "outputs": [],
   "source": [
    "# Core libraries\n",
    "import os                              # File and path operations\n",
    "import numpy as np                     # Numerical computations\n",
    "import pandas as pd                    # Data handling and analysis\n",
    "import matplotlib.pyplot as plt        # Plotting\n",
    "import seaborn as sns                  # Enhanced plotting\n",
    "from tqdm import tqdm                  # Progress bars\n",
    "\n",
    "# Scikit-learn (data preprocessing, metrics, splitting, etc.)\n",
    "from sklearn.model_selection import train_test_split\n",
    "from sklearn.preprocessing import StandardScaler, LabelEncoder\n",
    "from sklearn.metrics import classification_report, accuracy_score\n",
    "\n",
    "# Deep learning: TensorFlow + Keras\n",
    "import tensorflow as tf\n",
    "from tensorflow import keras\n",
    "from tensorflow.keras.models import Sequential\n",
    "from tensorflow.keras.layers import (Conv2D, MaxPooling2D, AveragePooling2D, Flatten, Dense, Dropout, BatchNormalization)\n",
    "\n",
    "# Image processing\n",
    "import cv2                             # OpenCV for image reading/processing\n",
    "from PIL import Image                  # Pillow for image file handling"
   ]
  },
  {
   "cell_type": "code",
   "execution_count": 3,
   "id": "c7094b2d-8580-4447-854f-43b01cc9fd7f",
   "metadata": {},
   "outputs": [
    {
     "name": "stdout",
     "output_type": "stream",
     "text": [
      "4113\n",
      "1500\n",
      "1978\n"
     ]
    }
   ],
   "source": [
    "# Load CSVs containing real age and file names\n",
    "train_df = pd.read_csv('gt_avg_train.csv')\n",
    "val_df   = pd.read_csv('gt_avg_valid.csv')\n",
    "test_df  = pd.read_csv('gt_avg_test.csv')\n",
    "\n",
    "print(len(train_df))\n",
    "print(len(val_df))\n",
    "print(len(test_df))\n",
    "\n",
    "# Choose whether to use full image or cropped \n",
    "# Set to true to use the cropped face (_face.jpg)\n",
    "use_cropped_faces = True\n",
    "\n",
    "def get_file_path(folder, fname):\n",
    "    if use_cropped_faces:\n",
    "        fname = fname.replace('.jpg', '_face.jpg')\n",
    "    return os.path.join(folder, fname)\n",
    "\n",
    "train_df['file_path'] = train_df['file_name'].apply(lambda x: get_file_path('train', x))\n",
    "val_df['file_path']   = val_df['file_name'].apply(lambda x: get_file_path('valid', x))\n",
    "test_df['file_path']  = test_df['file_name'].apply(lambda x: get_file_path('test', x))\n"
   ]
  },
  {
   "cell_type": "code",
   "execution_count": 4,
   "id": "5744c4ef-0e09-4d2e-8b68-9631905c78f1",
   "metadata": {},
   "outputs": [],
   "source": [
    "def build_dataset(df, batch_size=32, shuffle=True):\n",
    "    file_paths = df['file_path'].values\n",
    "    labels = df['real_age'].values\n",
    "\n",
    "    dataset = tf.data.Dataset.from_tensor_slices((file_paths, labels))\n",
    "\n",
    "    def load_and_preprocess(path, label):\n",
    "        image = tf.io.read_file(path)\n",
    "        image = tf.image.decode_jpeg(image, channels=3)         # Decode image\n",
    "        image = tf.image.resize(image, [224, 224])              # Resize to uniform size\n",
    "        image = image / 255.0                                   # Normalize to [0, 1]\n",
    "        return image, label\n",
    "\n",
    "    dataset = dataset.map(load_and_preprocess, num_parallel_calls=tf.data.AUTOTUNE)\n",
    "\n",
    "    if shuffle:\n",
    "        dataset = dataset.shuffle(buffer_size=1000)\n",
    "\n",
    "    dataset = dataset.batch(batch_size)\n",
    "    dataset = dataset.prefetch(tf.data.AUTOTUNE)\n",
    "\n",
    "    return dataset"
   ]
  },
  {
   "cell_type": "code",
   "execution_count": 5,
   "id": "506f3198-b3c2-494d-89cb-7b10cdcdc260",
   "metadata": {},
   "outputs": [],
   "source": [
    "train_ds = build_dataset(train_df, batch_size=32, shuffle=True)\n",
    "val_ds   = build_dataset(val_df, batch_size=32, shuffle=False)\n",
    "test_ds  = build_dataset(test_df, batch_size=32, shuffle=False)"
   ]
  },
  {
   "cell_type": "code",
   "execution_count": 15,
   "id": "9b5563aa-ea27-4d26-a3e2-635ac7de3394",
   "metadata": {},
   "outputs": [],
   "source": [
    "eda_df = pd.concat([train_df, val_df, test_df], ignore_index=True)"
   ]
  },
  {
   "cell_type": "code",
   "execution_count": 17,
   "id": "7fbe36a7-4d2b-4d26-982d-ba393f11a00b",
   "metadata": {},
   "outputs": [
    {
     "name": "stdout",
     "output_type": "stream",
     "text": [
      "<class 'pandas.core.frame.DataFrame'>\n",
      "RangeIndex: 7591 entries, 0 to 7590\n",
      "Data columns (total 6 columns):\n",
      " #   Column            Non-Null Count  Dtype  \n",
      "---  ------            --------------  -----  \n",
      " 0   file_name         7591 non-null   object \n",
      " 1   num_ratings       7591 non-null   int64  \n",
      " 2   apparent_age_avg  7591 non-null   float64\n",
      " 3   apparent_age_std  7591 non-null   float64\n",
      " 4   real_age          7591 non-null   int64  \n",
      " 5   file_path         7591 non-null   object \n",
      "dtypes: float64(2), int64(2), object(2)\n",
      "memory usage: 356.0+ KB\n",
      "None\n"
     ]
    },
    {
     "data": {
      "text/html": [
       "<div>\n",
       "<style scoped>\n",
       "    .dataframe tbody tr th:only-of-type {\n",
       "        vertical-align: middle;\n",
       "    }\n",
       "\n",
       "    .dataframe tbody tr th {\n",
       "        vertical-align: top;\n",
       "    }\n",
       "\n",
       "    .dataframe thead th {\n",
       "        text-align: right;\n",
       "    }\n",
       "</style>\n",
       "<table border=\"1\" class=\"dataframe\">\n",
       "  <thead>\n",
       "    <tr style=\"text-align: right;\">\n",
       "      <th></th>\n",
       "      <th>file_name</th>\n",
       "      <th>num_ratings</th>\n",
       "      <th>apparent_age_avg</th>\n",
       "      <th>apparent_age_std</th>\n",
       "      <th>real_age</th>\n",
       "      <th>file_path</th>\n",
       "    </tr>\n",
       "  </thead>\n",
       "  <tbody>\n",
       "    <tr>\n",
       "      <th>0</th>\n",
       "      <td>000000.jpg</td>\n",
       "      <td>36</td>\n",
       "      <td>5.000000</td>\n",
       "      <td>1.146423</td>\n",
       "      <td>4</td>\n",
       "      <td>train\\000000_face.jpg</td>\n",
       "    </tr>\n",
       "    <tr>\n",
       "      <th>1</th>\n",
       "      <td>000001.jpg</td>\n",
       "      <td>63</td>\n",
       "      <td>20.079365</td>\n",
       "      <td>4.096819</td>\n",
       "      <td>18</td>\n",
       "      <td>train\\000001_face.jpg</td>\n",
       "    </tr>\n",
       "    <tr>\n",
       "      <th>2</th>\n",
       "      <td>000002.jpg</td>\n",
       "      <td>38</td>\n",
       "      <td>76.815789</td>\n",
       "      <td>6.133009</td>\n",
       "      <td>80</td>\n",
       "      <td>train\\000002_face.jpg</td>\n",
       "    </tr>\n",
       "    <tr>\n",
       "      <th>3</th>\n",
       "      <td>000003.jpg</td>\n",
       "      <td>38</td>\n",
       "      <td>55.657895</td>\n",
       "      <td>7.864653</td>\n",
       "      <td>50</td>\n",
       "      <td>train\\000003_face.jpg</td>\n",
       "    </tr>\n",
       "    <tr>\n",
       "      <th>4</th>\n",
       "      <td>000004.jpg</td>\n",
       "      <td>15</td>\n",
       "      <td>17.666667</td>\n",
       "      <td>3.457222</td>\n",
       "      <td>17</td>\n",
       "      <td>train\\000004_face.jpg</td>\n",
       "    </tr>\n",
       "  </tbody>\n",
       "</table>\n",
       "</div>"
      ],
      "text/plain": [
       "    file_name  num_ratings  apparent_age_avg  apparent_age_std  real_age  \\\n",
       "0  000000.jpg           36          5.000000          1.146423         4   \n",
       "1  000001.jpg           63         20.079365          4.096819        18   \n",
       "2  000002.jpg           38         76.815789          6.133009        80   \n",
       "3  000003.jpg           38         55.657895          7.864653        50   \n",
       "4  000004.jpg           15         17.666667          3.457222        17   \n",
       "\n",
       "               file_path  \n",
       "0  train\\000000_face.jpg  \n",
       "1  train\\000001_face.jpg  \n",
       "2  train\\000002_face.jpg  \n",
       "3  train\\000003_face.jpg  \n",
       "4  train\\000004_face.jpg  "
      ]
     },
     "execution_count": 17,
     "metadata": {},
     "output_type": "execute_result"
    }
   ],
   "source": [
    "print(eda_df.info())\n",
    "eda_df.head()"
   ]
  },
  {
   "cell_type": "markdown",
   "id": "b51d09b2-e0d9-450b-8037-904f16655d48",
   "metadata": {},
   "source": [
    "We are really only interested in the real_age. Therefore, the real_age column will be the focus of our exploratory data analysis. "
   ]
  },
  {
   "cell_type": "code",
   "execution_count": null,
   "id": "3f28cf02-06a6-44d4-9ae2-5e6c5690f97b",
   "metadata": {},
   "outputs": [],
   "source": [
    "plt.style.use('seaborn')\n",
    "\n",
    "sns.set_theme(style='whitegrid')\n",
    "\n",
    "plt.figure(fig_size=12, 5))\n",
    "\n",
    "plt.subplot(1, 2, 1)\n",
    "\n",
    "sns.boxplot(data=eda_df, x=real_age, "
   ]
  }
 ],
 "metadata": {
  "kernelspec": {
   "display_name": "Python [conda env:sprint_15_env]",
   "language": "python",
   "name": "conda-env-sprint_15_env-py"
  },
  "language_info": {
   "codemirror_mode": {
    "name": "ipython",
    "version": 3
   },
   "file_extension": ".py",
   "mimetype": "text/x-python",
   "name": "python",
   "nbconvert_exporter": "python",
   "pygments_lexer": "ipython3",
   "version": "3.11.13"
  }
 },
 "nbformat": 4,
 "nbformat_minor": 5
}
